{
 "cells": [
  {
   "cell_type": "code",
   "execution_count": 1,
   "metadata": {},
   "outputs": [],
   "source": [
    "%matplotlib inline"
   ]
  },
  {
   "cell_type": "markdown",
   "metadata": {},
   "source": [
    "\n",
    "# Multiclass classification with under-sampling\n",
    "\n",
    "\n",
    "Some balancing methods allow for balancing dataset with multiples classes.\n",
    "We provide an example to illustrate the use of those methods which do\n",
    "not differ from the binary case.\n",
    "\n",
    "\n"
   ]
  },
  {
   "cell_type": "code",
   "execution_count": 25,
   "metadata": {},
   "outputs": [
    {
     "name": "stdout",
     "output_type": "stream",
     "text": [
      "Automatically created module for IPython interactive environment\n",
      "Training target statistics: Counter({1: 38, 2: 38, 0: 17})\n",
      "Testing target statistics: Counter({1: 12, 2: 12, 0: 8})\n",
      "                   pre       rec       spe        f1       geo       iba       sup\n",
      "\n",
      "          0       1.00      1.00      1.00      1.00      1.00      1.00         8\n",
      "          1       1.00      0.83      1.00      0.91      0.91      0.82        12\n",
      "          2       0.86      1.00      0.90      0.92      0.95      0.91        12\n",
      "\n",
      "avg / total       0.95      0.94      0.96      0.94      0.95      0.90        32\n",
      "\n"
     ]
    }
   ],
   "source": [
    "# Authors: Guillaume Lemaitre <g.lemaitre58@gmail.com>\n",
    "# License: MIT\n",
    "\n",
    "from collections import Counter\n",
    "\n",
    "from sklearn.datasets import load_iris\n",
    "from sklearn.svm import LinearSVC\n",
    "from sklearn.model_selection import train_test_split\n",
    "\n",
    "from imblearn.datasets import make_imbalance\n",
    "from imblearn.under_sampling import NearMiss\n",
    "from imblearn.pipeline import make_pipeline\n",
    "from imblearn.metrics import classification_report_imbalanced\n",
    "\n",
    "print(__doc__)\n",
    "\n",
    "RANDOM_STATE = 42\n",
    "\n",
    "# Create a folder to fetch the dataset\n",
    "iris = load_iris()\n",
    "X, y = make_imbalance(iris.data, iris.target, ratio={0: 25, 1: 50, 2: 50},\n",
    "                      random_state=0) #under-sampling method\n",
    "\n",
    "X_train, X_test, y_train, y_test = train_test_split(\n",
    "    X, y, random_state=RANDOM_STATE)\n",
    "\n",
    "print('Training target statistics: {}'.format(Counter(y_train)))\n",
    "print('Testing target statistics: {}'.format(Counter(y_test)))\n",
    "\n",
    "# Create a pipeline\n",
    "pipeline = make_pipeline(NearMiss(version=2, random_state=RANDOM_STATE),\n",
    "                         LinearSVC(random_state=RANDOM_STATE))\n",
    "pipeline.fit(X_train, y_train)\n",
    "\n",
    "# Classify and report the results\n",
    "print(classification_report_imbalanced(y_test, pipeline.predict(X_test)))"
   ]
  },
  {
   "cell_type": "code",
   "execution_count": 23,
   "metadata": {},
   "outputs": [
    {
     "name": "stdout",
     "output_type": "stream",
     "text": [
      "150\n",
      "[0 0 0 0 0 0 0 0 0 0 0 0 0 0 0 0 0 0 0 0 0 0 0 0 0 0 0 0 0 0 0 0 0 0 0 0 0\n",
      " 0 0 0 0 0 0 0 0 0 0 0 0 0 1 1 1 1 1 1 1 1 1 1 1 1 1 1 1 1 1 1 1 1 1 1 1 1\n",
      " 1 1 1 1 1 1 1 1 1 1 1 1 1 1 1 1 1 1 1 1 1 1 1 1 1 1 2 2 2 2 2 2 2 2 2 2 2\n",
      " 2 2 2 2 2 2 2 2 2 2 2 2 2 2 2 2 2 2 2 2 2 2 2 2 2 2 2 2 2 2 2 2 2 2 2 2 2\n",
      " 2 2]\n",
      "150\n",
      "50\n",
      "50\n",
      "50\n"
     ]
    }
   ],
   "source": [
    "print(len(iris['data']))\n",
    "print(iris['target'])\n",
    "print(len(iris['target']))\n",
    "y= iris['target']\n",
    "import numpy as np\n",
    "labels_0 = np.extract(y==0,y)\n",
    "print(len(labels_0))\n",
    "labels_1 = np.extract(y==1,y)\n",
    "print(len(labels_1))\n",
    "labels_2 = np.extract(y==2,y)\n",
    "print(len(labels_2))"
   ]
  },
  {
   "cell_type": "code",
   "execution_count": 12,
   "metadata": {},
   "outputs": [
    {
     "name": "stdout",
     "output_type": "stream",
     "text": [
      "<class 'numpy.ndarray'>\n"
     ]
    }
   ],
   "source": [
    "print(type(iris['target']))"
   ]
  },
  {
   "cell_type": "code",
   "execution_count": 13,
   "metadata": {},
   "outputs": [
    {
     "name": "stdout",
     "output_type": "stream",
     "text": [
      "[[ 5.2  3.4  1.4  0.2]\n",
      " [ 4.8  3.4  1.6  0.2]\n",
      " [ 5.4  3.7  1.5  0.2]\n",
      " [ 4.5  2.3  1.3  0.3]\n",
      " [ 4.7  3.2  1.3  0.2]\n",
      " [ 5.2  3.5  1.5  0.2]\n",
      " [ 4.4  3.   1.3  0.2]\n",
      " [ 5.4  3.4  1.5  0.4]\n",
      " [ 4.6  3.6  1.   0.2]\n",
      " [ 5.   3.6  1.4  0.2]\n",
      " [ 5.5  4.2  1.4  0.2]\n",
      " [ 5.   3.2  1.2  0.2]\n",
      " [ 5.   3.4  1.6  0.4]\n",
      " [ 4.9  3.1  1.5  0.1]\n",
      " [ 5.7  3.8  1.7  0.3]\n",
      " [ 5.   3.4  1.5  0.2]\n",
      " [ 5.8  4.   1.2  0.2]\n",
      " [ 4.8  3.   1.4  0.3]\n",
      " [ 5.3  3.7  1.5  0.2]\n",
      " [ 4.7  3.2  1.6  0.2]\n",
      " [ 5.7  4.4  1.5  0.4]\n",
      " [ 4.8  3.1  1.6  0.2]\n",
      " [ 5.2  4.1  1.5  0.1]\n",
      " [ 5.4  3.9  1.3  0.4]\n",
      " [ 4.4  3.2  1.3  0.2]\n",
      " [ 6.9  3.1  4.9  1.5]\n",
      " [ 5.5  2.4  3.8  1.1]\n",
      " [ 6.1  2.8  4.7  1.2]\n",
      " [ 5.6  3.   4.5  1.5]\n",
      " [ 6.1  2.9  4.7  1.4]\n",
      " [ 6.   2.9  4.5  1.5]\n",
      " [ 5.2  2.7  3.9  1.4]\n",
      " [ 5.7  3.   4.2  1.2]\n",
      " [ 6.   2.7  5.1  1.6]\n",
      " [ 6.3  2.3  4.4  1.3]\n",
      " [ 5.7  2.9  4.2  1.3]\n",
      " [ 4.9  2.4  3.3  1. ]\n",
      " [ 5.4  3.   4.5  1.5]\n",
      " [ 5.6  2.5  3.9  1.1]\n",
      " [ 5.   2.3  3.3  1. ]\n",
      " [ 5.8  2.7  3.9  1.2]\n",
      " [ 6.6  2.9  4.6  1.3]\n",
      " [ 6.3  2.5  4.9  1.5]\n",
      " [ 5.7  2.6  3.5  1. ]\n",
      " [ 5.6  2.7  4.2  1.3]\n",
      " [ 6.8  2.8  4.8  1.4]\n",
      " [ 5.8  2.6  4.   1.2]\n",
      " [ 6.4  2.9  4.3  1.3]\n",
      " [ 6.3  3.3  4.7  1.6]\n",
      " [ 6.1  3.   4.6  1.4]\n",
      " [ 6.2  2.9  4.3  1.3]\n",
      " [ 5.9  3.2  4.8  1.8]\n",
      " [ 5.   2.   3.5  1. ]\n",
      " [ 6.6  3.   4.4  1.4]\n",
      " [ 6.   2.2  4.   1. ]\n",
      " [ 6.1  2.8  4.   1.3]\n",
      " [ 5.5  2.3  4.   1.3]\n",
      " [ 5.6  2.9  3.6  1.3]\n",
      " [ 5.1  2.5  3.   1.1]\n",
      " [ 6.7  3.   5.   1.7]\n",
      " [ 6.2  2.2  4.5  1.5]\n",
      " [ 5.9  3.   4.2  1.5]\n",
      " [ 6.   3.4  4.5  1.6]\n",
      " [ 5.5  2.5  4.   1.3]\n",
      " [ 6.4  3.2  4.5  1.5]\n",
      " [ 5.5  2.4  3.7  1. ]\n",
      " [ 6.5  2.8  4.6  1.5]\n",
      " [ 6.7  3.1  4.4  1.4]\n",
      " [ 5.8  2.7  4.1  1. ]\n",
      " [ 5.5  2.6  4.4  1.2]\n",
      " [ 5.6  3.   4.1  1.3]\n",
      " [ 5.7  2.8  4.5  1.3]\n",
      " [ 6.7  3.1  4.7  1.5]\n",
      " [ 5.7  2.8  4.1  1.3]\n",
      " [ 7.   3.2  4.7  1.4]\n",
      " [ 7.3  2.9  6.3  1.8]\n",
      " [ 6.7  3.3  5.7  2.1]\n",
      " [ 6.1  3.   4.9  1.8]\n",
      " [ 6.2  3.4  5.4  2.3]\n",
      " [ 6.8  3.   5.5  2.1]\n",
      " [ 7.6  3.   6.6  2.1]\n",
      " [ 6.8  3.2  5.9  2.3]\n",
      " [ 7.7  2.8  6.7  2. ]\n",
      " [ 6.   2.2  5.   1.5]\n",
      " [ 6.2  2.8  4.8  1.8]\n",
      " [ 6.7  3.1  5.6  2.4]\n",
      " [ 6.3  2.5  5.   1.9]\n",
      " [ 7.2  3.2  6.   1.8]\n",
      " [ 6.4  3.2  5.3  2.3]\n",
      " [ 4.9  2.5  4.5  1.7]\n",
      " [ 6.   3.   4.8  1.8]\n",
      " [ 6.5  3.   5.5  1.8]\n",
      " [ 7.7  3.   6.1  2.3]\n",
      " [ 6.4  2.8  5.6  2.1]\n",
      " [ 6.7  2.5  5.8  1.8]\n",
      " [ 6.4  2.7  5.3  1.9]\n",
      " [ 6.4  3.1  5.5  1.8]\n",
      " [ 6.5  3.   5.8  2.2]\n",
      " [ 5.8  2.7  5.1  1.9]\n",
      " [ 6.9  3.1  5.1  2.3]\n",
      " [ 6.3  2.8  5.1  1.5]\n",
      " [ 7.9  3.8  6.4  2. ]\n",
      " [ 7.7  3.8  6.7  2.2]\n",
      " [ 6.9  3.2  5.7  2.3]\n",
      " [ 6.4  2.8  5.6  2.2]\n",
      " [ 5.8  2.8  5.1  2.4]\n",
      " [ 7.7  2.6  6.9  2.3]\n",
      " [ 6.7  3.   5.2  2.3]\n",
      " [ 7.4  2.8  6.1  1.9]\n",
      " [ 6.7  3.3  5.7  2.5]\n",
      " [ 7.1  3.   5.9  2.1]\n",
      " [ 6.3  2.7  4.9  1.8]\n",
      " [ 6.5  3.2  5.1  2. ]\n",
      " [ 5.9  3.   5.1  1.8]\n",
      " [ 7.2  3.6  6.1  2.5]\n",
      " [ 5.6  2.8  4.9  2. ]\n",
      " [ 6.9  3.1  5.4  2.1]\n",
      " [ 5.7  2.5  5.   2. ]\n",
      " [ 5.8  2.7  5.1  1.9]\n",
      " [ 6.5  3.   5.2  2. ]\n",
      " [ 6.3  2.9  5.6  1.8]\n",
      " [ 7.2  3.   5.8  1.6]\n",
      " [ 6.1  2.6  5.6  1.4]\n",
      " [ 6.3  3.4  5.6  2.4]\n",
      " [ 6.3  3.3  6.   2.5]]\n"
     ]
    }
   ],
   "source": [
    "print(X)"
   ]
  },
  {
   "cell_type": "code",
   "execution_count": 14,
   "metadata": {},
   "outputs": [
    {
     "name": "stdout",
     "output_type": "stream",
     "text": [
      "125\n"
     ]
    }
   ],
   "source": [
    "print(len(X))"
   ]
  },
  {
   "cell_type": "code",
   "execution_count": 15,
   "metadata": {},
   "outputs": [
    {
     "name": "stdout",
     "output_type": "stream",
     "text": [
      "[0 0 0 0 0 0 0 0 0 0 0 0 0 0 0 0 0 0 0 0 0 0 0 0 0 1 1 1 1 1 1 1 1 1 1 1 1\n",
      " 1 1 1 1 1 1 1 1 1 1 1 1 1 1 1 1 1 1 1 1 1 1 1 1 1 1 1 1 1 1 1 1 1 1 1 1 1\n",
      " 1 2 2 2 2 2 2 2 2 2 2 2 2 2 2 2 2 2 2 2 2 2 2 2 2 2 2 2 2 2 2 2 2 2 2 2 2\n",
      " 2 2 2 2 2 2 2 2 2 2 2 2 2 2]\n"
     ]
    }
   ],
   "source": [
    "print(y)"
   ]
  },
  {
   "cell_type": "code",
   "execution_count": 21,
   "metadata": {},
   "outputs": [
    {
     "name": "stdout",
     "output_type": "stream",
     "text": [
      "25\n",
      "50\n",
      "50\n"
     ]
    }
   ],
   "source": [
    "import numpy as np\n",
    "labels_0 = np.extract(y==0,y)\n",
    "print(len(labels_0))\n",
    "labels_1 = np.extract(y==1,y)\n",
    "print(len(labels_1))\n",
    "labels_2 = np.extract(y==2,y)\n",
    "print(len(labels_2))"
   ]
  },
  {
   "cell_type": "code",
   "execution_count": null,
   "metadata": {},
   "outputs": [],
   "source": []
  }
 ],
 "metadata": {
  "kernelspec": {
   "display_name": "Python 3",
   "language": "python",
   "name": "python3"
  },
  "language_info": {
   "codemirror_mode": {
    "name": "ipython",
    "version": 3
   },
   "file_extension": ".py",
   "mimetype": "text/x-python",
   "name": "python",
   "nbconvert_exporter": "python",
   "pygments_lexer": "ipython3",
   "version": "3.6.4"
  }
 },
 "nbformat": 4,
 "nbformat_minor": 1
}

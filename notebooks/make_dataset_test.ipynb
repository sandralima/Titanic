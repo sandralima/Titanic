{
 "cells": [
  {
   "cell_type": "code",
   "execution_count": 2,
   "metadata": {},
   "outputs": [],
   "source": [
    "import os\n",
    "get_make_dataset_file = os.path.join(os.path.pardir,'src', 'data', 'make_dataset.py')"
   ]
  },
  {
   "cell_type": "code",
   "execution_count": 4,
   "metadata": {},
   "outputs": [
    {
     "name": "stderr",
     "output_type": "stream",
     "text": [
      "2018-02-28 14:23:26,605 - __main__ - INFO - making final data set from raw data\n"
     ]
    }
   ],
   "source": [
    "!python $get_make_dataset_file 'if' 'of'"
   ]
  },
  {
   "cell_type": "code",
   "execution_count": 12,
   "metadata": {},
   "outputs": [
    {
     "name": "stdout",
     "output_type": "stream",
     "text": [
      "..\\data\\raw\\train.csv\n"
     ]
    }
   ],
   "source": [
    "raw_data_path = os.path.join(os.path.pardir, 'data', 'raw') \n",
    "train_data_path = os.path.join(raw_data_path, 'train.csv')\n",
    "print(train_data_path)"
   ]
  },
  {
   "cell_type": "code",
   "execution_count": 14,
   "metadata": {},
   "outputs": [
    {
     "name": "stderr",
     "output_type": "stream",
     "text": [
      "2018-02-28 14:54:00,097 - __main__ - INFO - project directory: ..\\src\\data\\..\\..\n",
      "2018-02-28 14:54:00,097 - __main__ - INFO - making final data set from raw data\n"
     ]
    }
   ],
   "source": [
    "!python $get_make_dataset_file train_data_path 'of'"
   ]
  }
 ],
 "metadata": {
  "kernelspec": {
   "display_name": "Python 3",
   "language": "python",
   "name": "python3"
  },
  "language_info": {
   "codemirror_mode": {
    "name": "ipython",
    "version": 3
   },
   "file_extension": ".py",
   "mimetype": "text/x-python",
   "name": "python",
   "nbconvert_exporter": "python",
   "pygments_lexer": "ipython3",
   "version": "3.6.4"
  }
 },
 "nbformat": 4,
 "nbformat_minor": 2
}
